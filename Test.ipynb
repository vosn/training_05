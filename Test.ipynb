{
    "cells": [
        {
            "cell_type": "markdown",
            "metadata": {},
            "source": "#Description\n"
        },
        {
            "cell_type": "code",
            "execution_count": 5,
            "metadata": {},
            "outputs": [
                {
                    "data": {
                        "text/html": "<div>\n<style scoped>\n    .dataframe tbody tr th:only-of-type {\n        vertical-align: middle;\n    }\n\n    .dataframe tbody tr th {\n        vertical-align: top;\n    }\n\n    .dataframe thead th {\n        text-align: right;\n    }\n</style>\n<table border=\"1\" class=\"dataframe\">\n  <thead>\n    <tr style=\"text-align: right;\">\n      <th></th>\n      <th>Unnamed: 0</th>\n      <th>Unnamed: 1</th>\n      <th>Unnamed: 2</th>\n      <th>Unnamed: 3</th>\n      <th>Unnamed: 4</th>\n      <th>Unnamed: 5</th>\n      <th>Unnamed: 6</th>\n    </tr>\n  </thead>\n  <tbody>\n    <tr>\n      <th>0</th>\n      <td>169544</td>\n      <td>NaN</td>\n      <td>507</td>\n      <td>2015-07-01</td>\n      <td>2015-07-01</td>\n      <td>A</td>\n      <td>1</td>\n    </tr>\n    <tr>\n      <th>1</th>\n      <td>169544</td>\n      <td>NaN</td>\n      <td>604</td>\n      <td>2015-07-01</td>\n      <td>2015-07-01</td>\n      <td>A</td>\n      <td>23</td>\n    </tr>\n    <tr>\n      <th>2</th>\n      <td>169544</td>\n      <td>NaN</td>\n      <td>1100</td>\n      <td>2015-07-01</td>\n      <td>2015-07-01</td>\n      <td>A</td>\n      <td>5</td>\n    </tr>\n    <tr>\n      <th>3</th>\n      <td>169544</td>\n      <td>NaN</td>\n      <td>1200</td>\n      <td>2015-07-01</td>\n      <td>2015-07-01</td>\n      <td>A</td>\n      <td>29</td>\n    </tr>\n    <tr>\n      <th>4</th>\n      <td>169544</td>\n      <td>NaN</td>\n      <td>1800</td>\n      <td>2015-07-01</td>\n      <td>2015-07-01</td>\n      <td>A</td>\n      <td>8</td>\n    </tr>\n  </tbody>\n</table>\n</div>",
                        "text/plain": "   Unnamed: 0  Unnamed: 1  Unnamed: 2 Unnamed: 3 Unnamed: 4 Unnamed: 5  \\\n0      169544         NaN         507 2015-07-01 2015-07-01          A   \n1      169544         NaN         604 2015-07-01 2015-07-01          A   \n2      169544         NaN        1100 2015-07-01 2015-07-01          A   \n3      169544         NaN        1200 2015-07-01 2015-07-01          A   \n4      169544         NaN        1800 2015-07-01 2015-07-01          A   \n\n   Unnamed: 6  \n0           1  \n1          23  \n2           5  \n3          29  \n4           8  "
                    },
                    "execution_count": 5,
                    "metadata": {},
                    "output_type": "execute_result"
                }
            ],
            "source": "# The code was removed by Watson Studio for sharing."
        },
        {
            "cell_type": "code",
            "execution_count": null,
            "metadata": {},
            "outputs": [],
            "source": ""
        }
    ],
    "metadata": {
        "kernelspec": {
            "display_name": "Python 3.6",
            "language": "python",
            "name": "python3"
        },
        "language_info": {
            "codemirror_mode": {
                "name": "ipython",
                "version": 3
            },
            "file_extension": ".py",
            "mimetype": "text/x-python",
            "name": "python",
            "nbconvert_exporter": "python",
            "pygments_lexer": "ipython3",
            "version": "3.6.9"
        }
    },
    "nbformat": 4,
    "nbformat_minor": 1
}